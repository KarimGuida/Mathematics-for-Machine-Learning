{
 "cells": [
  {
   "cell_type": "markdown",
   "metadata": {},
   "source": [
    "# Distances and Angles between vectors\n",
    "\n",
    "We are going to compute distances and angles between vectors."
   ]
  },
  {
   "cell_type": "code",
   "execution_count": null,
   "metadata": {
    "vscode": {
     "languageId": "plaintext"
    }
   },
   "outputs": [],
   "source": [
    "import numpy as np\n",
    "import scipy"
   ]
  },
  {
   "cell_type": "markdown",
   "metadata": {},
   "source": [
    "### Distances"
   ]
  },
  {
   "cell_type": "code",
   "execution_count": null,
   "metadata": {
    "vscode": {
     "languageId": "plaintext"
    }
   },
   "outputs": [],
   "source": [
    "def distance(x0, x1):\n",
    "    \"\"\"Compute distance between two vectors x0, x1 using the dot product.\n",
    "    \n",
    "    Args:\n",
    "    x0, x1: ndarray of shape (D,) to compute distance between. \n",
    "    \n",
    "    Returns:\n",
    "    the distance between the x0 and x1.\n",
    "    \"\"\"\n",
    "    distance = np.dot(x1-x0,x1-x0)**(0.5)\n",
    "    return distance"
   ]
  },
  {
   "cell_type": "markdown",
   "metadata": {},
   "source": [
    "### Angles\n"
   ]
  },
  {
   "cell_type": "code",
   "execution_count": null,
   "metadata": {
    "vscode": {
     "languageId": "plaintext"
    }
   },
   "outputs": [],
   "source": [
    "def angle(x0, x1):\n",
    "    \"\"\"Compute the angle between two vectors x0, x1 using the dot product.\n",
    "    \n",
    "    Args:\n",
    "    x0, x1: ndarray of shape (D,) to compute the angle between. \n",
    "    \n",
    "    Returns:\n",
    "    the angle between the x0 and x1.\n",
    "    \"\"\"\n",
    "    angle = np.arccos((np.dot(x0,x1)/(np.dot(x0,x0)*np.dot(x1,x1))**(0.5)))\n",
    "    return angle"
   ]
  }
 ],
 "metadata": {
  "language_info": {
   "name": "python"
  }
 },
 "nbformat": 4,
 "nbformat_minor": 2
}
